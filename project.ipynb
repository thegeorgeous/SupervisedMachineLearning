{
 "cells": [
  {
   "cell_type": "markdown",
   "metadata": {},
   "source": [
    "# Supervised Learning Final Project\n",
    "\n",
    "Diabetes is a chronic condition that occurs when the pacreas can no longer make insulin, or the body cannot effectively use insulin. Insulin is a hormone created in the pancreas that to move glucose into cells in the body. Glucose is a source of energy for the body. A person with diabetes is unable to control the levels of glucose in their blood. High levels of glucose over a long term is associated with organ failure and other damage to the body. As per [this report](https://idf.org/media/uploads/2024/06/IDF-Annual-Report-2023.pdf) from the International Diabetes Federation, an estimated 540 million people live with diabetes.\n",
    "\n",
    "Early diabetes detection and prediction is an important tool to prevent diabetes. While there are several modern tests/features that can be used for diabetes detection, we will use some of the historically common ones that are cheaper and readily available. e.g. BMI, Glucose, Insulin, Age etc."
   ]
  },
  {
   "cell_type": "code",
   "execution_count": null,
   "metadata": {},
   "outputs": [],
   "source": [
    "%pip install pandas numpy matplotlib seaborn scikit-learn catboost\n",
    "\n",
    "import pandas as pd\n",
    "import numpy as np\n",
    "import matplotlib.pyplot as plt\n",
    "import seaborn as sns\n",
    "\n",
    "from sklearn.model_selection import train_test_split, GridSearchCV\n",
    "from sklearn.feature_selection import SequentialFeatureSelector\n",
    "from sklearn.preprocessing import StandardScaler\n",
    "from sklearn.linear_model import LogisticRegression\n",
    "from sklearn.ensemble import RandomForestClassifier\n",
    "from sklearn.metrics import classification_report, roc_auc_score, roc_curve, confusion_matrix, ConfusionMatrixDisplay\n",
    "\n",
    "from catboost import CatBoostClassifier"
   ]
  },
  {
   "cell_type": "markdown",
   "metadata": {},
   "source": [
    "## Data"
   ]
  },
  {
   "cell_type": "code",
   "execution_count": null,
   "metadata": {},
   "outputs": [],
   "source": [
    "# 1. Data Loading and Initial Exploration\n",
    "data = pd.read_csv('data/diabetes.csv')\n",
    "print(data.head())\n",
    "print(data.info())"
   ]
  },
  {
   "cell_type": "markdown",
   "metadata": {},
   "source": [
    "## Data Cleaning"
   ]
  },
  {
   "cell_type": "code",
   "execution_count": null,
   "metadata": {},
   "outputs": [],
   "source": [
    "# Find distribution of target variable\n",
    "data.hist(figsize = (10,10))\n",
    "plt.show()"
   ]
  },
  {
   "cell_type": "code",
   "execution_count": null,
   "metadata": {},
   "outputs": [],
   "source": [
    "# Replace zero values with median\n",
    "zero_columns = ['Glucose', 'BloodPressure', 'SkinThickness', 'Insulin', 'BMI']\n",
    "for col in zero_columns:\n",
    "    data[col] = data[col].replace(0, data[col].median())"
   ]
  },
  {
   "cell_type": "markdown",
   "metadata": {},
   "source": [
    "## Exploratory Data Analysis"
   ]
  },
  {
   "cell_type": "code",
   "execution_count": null,
   "metadata": {},
   "outputs": [],
   "source": [
    "sns.pairplot(data, hue='Outcome', diag_kind='hist', height=1.5)\n",
    "plt.show()"
   ]
  },
  {
   "cell_type": "code",
   "execution_count": null,
   "metadata": {},
   "outputs": [],
   "source": [
    "corr_matrix = data.corr()\n",
    "plt.figure(figsize=(8, 6))\n",
    "sns.heatmap(corr_matrix, annot=True, cmap='coolwarm', vmin=-1, vmax=1, center=0)\n",
    "plt.title('Correlation Heatmap')\n",
    "plt.show()"
   ]
  },
  {
   "cell_type": "markdown",
   "metadata": {},
   "source": [
    "## Models"
   ]
  },
  {
   "cell_type": "code",
   "execution_count": null,
   "metadata": {},
   "outputs": [],
   "source": [
    "X = data.drop('Outcome', axis=1)\n",
    "y = data['Outcome']\n",
    "\n",
    "# Split data into train and test sets\n",
    "X_train, X_test, y_train, y_test = train_test_split(X, y, test_size=0.2, random_state=42)\n",
    "\n",
    "# Scale features\n",
    "scaler = StandardScaler()\n",
    "X_train_scaled = scaler.fit_transform(X_train)\n",
    "X_test_scaled = scaler.transform(X_test)"
   ]
  },
  {
   "cell_type": "markdown",
   "metadata": {},
   "source": [
    "### Feature Selection using Logistic Regression as the base estimator\n"
   ]
  },
  {
   "cell_type": "code",
   "execution_count": null,
   "metadata": {},
   "outputs": [],
   "source": [
    "# Use Logistic Regression as the base estimator for feature selection\n",
    "lr = LogisticRegression(random_state=42)\n",
    "\n",
    "# Perform forward selection to select the top 5 features\n",
    "sfs = SequentialFeatureSelector(estimator=lr, n_features_to_select=5, direction='forward', scoring='accuracy', cv=5)\n",
    "sfs.fit(X_train_scaled, y_train)\n",
    "\n",
    "# Get the selected features\n",
    "selected_features = X.columns[sfs.get_support()]\n",
    "print(\"Selected features:\", selected_features)\n",
    "\n",
    "# Create new datasets with selected features\n",
    "X_train_sfs = sfs.transform(X_train_scaled)\n",
    "X_test_sfs = sfs.transform(X_test_scaled)\n"
   ]
  },
  {
   "cell_type": "code",
   "execution_count": null,
   "metadata": {},
   "outputs": [],
   "source": [
    "## Logistic Regression\n",
    "lr_params = {\n",
    "    'C': [0.01, 0.1, 1],\n",
    "    'penalty': ['l1', 'l2'],\n",
    "    'solver': ['liblinear', 'saga']\n",
    "}\n",
    "lr_grid = GridSearchCV(LogisticRegression(random_state=42), lr_params, cv=5, scoring='roc_auc')\n",
    "lr_grid.fit(X_train_sfs, y_train)\n",
    "lr_best = lr_grid.best_estimator_\n",
    "\n",
    "print(\"\\nBest Logistic Regression Parameters:\", lr_grid.best_params_)\n",
    "print(\"Logistic Regression Performance:\")\n",
    "print(classification_report(y_test, lr_best.predict(X_test_sfs)))\n",
    "print(\"ROC AUC Score:\", roc_auc_score(y_test, lr_best.predict_proba(X_test_sfs)[:, 1]))\n"
   ]
  },
  {
   "cell_type": "code",
   "execution_count": null,
   "metadata": {},
   "outputs": [],
   "source": [
    "## Random Forest\n",
    "rf_params = {\n",
    "    'n_estimators': [100, 200],\n",
    "    'max_depth': [5, 10],\n",
    "    'min_samples_split': [5, 10],\n",
    "    'min_samples_leaf': [1, 4]\n",
    "}\n",
    "rf_grid = GridSearchCV(RandomForestClassifier(random_state=42), rf_params, cv=5, scoring='roc_auc')\n",
    "rf_grid.fit(X_train_sfs, y_train)\n",
    "rf_best = rf_grid.best_estimator_\n",
    "\n",
    "print(\"\\nBest Random Forest Parameters:\", rf_grid.best_params_)\n",
    "print(\"Random Forest Performance:\")\n",
    "print(classification_report(y_test, rf_best.predict(X_test_sfs)))\n",
    "print(\"ROC AUC Score:\", roc_auc_score(y_test, rf_best.predict_proba(X_test_sfs)[:, 1]))"
   ]
  },
  {
   "cell_type": "code",
   "execution_count": null,
   "metadata": {},
   "outputs": [],
   "source": [
    "## CatBoost Classifier\n",
    "catboost_params = {\n",
    "    'iterations': [100, 200, 300],\n",
    "    'depth': [4, 8],\n",
    "    'learning_rate': [0.01, 0.1],\n",
    "    'l2_leaf_reg': [1, 3, 9]\n",
    "}\n",
    "catboost_grid = GridSearchCV(CatBoostClassifier(verbose=0, random_state=42), catboost_params, cv=5, scoring='roc_auc')\n",
    "catboost_grid.fit(X_train_sfs, y_train)\n",
    "catboost_best = catboost_grid.best_estimator_\n",
    "\n",
    "print(\"\\nBest CatBoost Parameters:\", catboost_grid.best_params_)\n",
    "print(\"CatBoost Performance:\")\n",
    "print(classification_report(y_test, catboost_best.predict(X_test_sfs)))\n",
    "print(\"ROC AUC Score:\", roc_auc_score(y_test, catboost_best.predict_proba(X_test_sfs)[:, 1]))\n",
    "\n",
    "# 6. Model Comparison using ROC Curves\n",
    "models = [lr_best, rf_best, catboost_best]\n",
    "model_names = ['Logistic Regression', 'Random Forest', 'CatBoost']"
   ]
  },
  {
   "cell_type": "markdown",
   "metadata": {},
   "source": [
    "## Results and Analysis"
   ]
  },
  {
   "cell_type": "code",
   "execution_count": null,
   "metadata": {},
   "outputs": [],
   "source": [
    "\n",
    "def plot_confusion_matrix(model, X_test, y_test, title):\n",
    "    y_pred = model.predict(X_test)\n",
    "    cm = confusion_matrix(y_test, y_pred)\n",
    "    disp = ConfusionMatrixDisplay(confusion_matrix=cm, display_labels=model.classes_)\n",
    "    disp.plot(cmap='Blues')\n",
    "    plt.title(title)\n",
    "    plt.show()\n",
    "\n",
    "# For Logistic Regression\n",
    "plot_confusion_matrix(lr_best, X_test_sfs, y_test, \"Confusion Matrix - Logistic Regression\")\n",
    "\n",
    "# For Random Forest\n",
    "plot_confusion_matrix(rf_best, X_test_sfs, y_test, \"Confusion Matrix - Random Forest\")\n",
    "\n",
    "# For CatBoost\n",
    "plot_confusion_matrix(catboost_best, X_test_sfs, y_test, \"Confusion Matrix - CatBoost\")"
   ]
  },
  {
   "cell_type": "code",
   "execution_count": null,
   "metadata": {},
   "outputs": [],
   "source": [
    "models = [lr_best, rf_best, catboost_best]\n",
    "model_names = ['Logistic Regression', 'Random Forest', 'CatBoost']\n",
    "\n",
    "plt.figure(figsize=(10, 6))\n",
    "for model, name in zip(models, model_names):\n",
    "    y_pred = model.predict(X_test_sfs)\n",
    "    y_pred_proba = model.predict_proba(X_test_sfs)[:, 1]\n",
    "    fpr, tpr, _ = roc_curve(y_test, y_pred_proba)\n",
    "    auc = roc_auc_score(y_test, y_pred_proba)\n",
    "    plt.plot(fpr, tpr, label=f'{name} (AUC={auc:.2f})')\n",
    "\n",
    "plt.plot([0, 1], [0, 1], linestyle='--')\n",
    "plt.xlabel('False Positive Rate')\n",
    "plt.ylabel('True Positive Rate')\n",
    "plt.title('ROC Curve Comparison')\n",
    "plt.legend()\n",
    "plt.show()"
   ]
  },
  {
   "cell_type": "markdown",
   "metadata": {},
   "source": [
    "## References\n",
    "\n",
    "Xi Li, Michele Curiger, Rolf Dornberger, and Thomas Hanne. 2023. Optimized Computational Diabetes Prediction with Feature Selection Algorithms. In Proceedings of the 2023 7th International Conference on Intelligent Systems, Metaheuristics &amp; Swarm Intelligence (ISMSI '23). Association for Computing Machinery, New York, NY, USA, 36–43. https://doi.org/10.1145/3596947.3596948"
   ]
  }
 ],
 "metadata": {
  "kernelspec": {
   "display_name": ".venv",
   "language": "python",
   "name": "python3"
  },
  "language_info": {
   "codemirror_mode": {
    "name": "ipython",
    "version": 3
   },
   "file_extension": ".py",
   "mimetype": "text/x-python",
   "name": "python",
   "nbconvert_exporter": "python",
   "pygments_lexer": "ipython3",
   "version": "3.12.9"
  }
 },
 "nbformat": 4,
 "nbformat_minor": 2
}
